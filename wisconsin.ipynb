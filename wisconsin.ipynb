{
 "cells": [
  {
   "cell_type": "code",
   "execution_count": 4,
   "metadata": {},
   "outputs": [],
   "source": [
    "import numpy as np\n",
    "import matplotlib.pyplot as plt\n",
    "import pandas as pd\n"
   ]
  },
  {
   "cell_type": "code",
   "execution_count": 6,
   "metadata": {},
   "outputs": [
    {
     "name": "stdout",
     "output_type": "stream",
     "text": [
      "        code  epaisseur_clump  Cell_Size  Cell_Shape   Adhesion_marginale  \\\n",
      "0    1000025                5          1           1                    1   \n",
      "1    1002945                5          4           4                    5   \n",
      "2    1015425                3          1           1                    1   \n",
      "3    1016277                6          8           8                    1   \n",
      "4    1017023                4          1           1                    3   \n",
      "..       ...              ...        ...         ...                  ...   \n",
      "694   776715                3          1           1                    1   \n",
      "695   841769                2          1           1                    1   \n",
      "696   888820                5         10          10                    3   \n",
      "697   897471                4          8           6                    4   \n",
      "698   897471                4          8           8                    5   \n",
      "\n",
      "      Cell_epitheliale   Bare_Nuclei  Bland_Chromatin  Normal_Nucleoli  \\\n",
      "0                     2          1.0                3                1   \n",
      "1                     7         10.0                3                2   \n",
      "2                     2          2.0                3                1   \n",
      "3                     3          4.0                3                7   \n",
      "4                     2          1.0                3                1   \n",
      "..                  ...          ...              ...              ...   \n",
      "694                   3          2.0                1                1   \n",
      "695                   2          1.0                1                1   \n",
      "696                   7          3.0                8               10   \n",
      "697                   3          4.0               10                6   \n",
      "698                   4          5.0               10                4   \n",
      "\n",
      "     Mitoses  Class  \n",
      "0          1      2  \n",
      "1          1      2  \n",
      "2          1      2  \n",
      "3          1      2  \n",
      "4          1      2  \n",
      "..       ...    ...  \n",
      "694        1      2  \n",
      "695        1      2  \n",
      "696        2      4  \n",
      "697        1      4  \n",
      "698        1      4  \n",
      "\n",
      "[699 rows x 11 columns]\n"
     ]
    }
   ],
   "source": [
    "column_names = ['code','epaisseur_clump', 'Cell_Size', 'Cell_Shape', ' Adhesion_marginale',\n",
    "                ' Cell_epitheliale ', 'Bare_Nuclei', 'Bland_Chromatin', 'Normal_Nucleoli', 'Mitoses', 'Class']\n",
    "data = pd.read_csv('data/breast-cancer-wisconsin.data', names=column_names,\n",
    "                      na_values = \"?\", sep=\",\", skipinitialspace=True)\n",
    "print(data)"
   ]
  }
 ],
 "metadata": {
  "kernelspec": {
   "display_name": "Python 3",
   "language": "python",
   "name": "python3"
  },
  "language_info": {
   "codemirror_mode": {
    "name": "ipython",
    "version": 3
   },
   "file_extension": ".py",
   "mimetype": "text/x-python",
   "name": "python",
   "nbconvert_exporter": "python",
   "pygments_lexer": "ipython3",
   "version": "3.7.5"
  }
 },
 "nbformat": 4,
 "nbformat_minor": 4
}
